{
 "cells": [
  {
   "cell_type": "code",
   "execution_count": 28,
   "id": "10acac76-1f57-4350-8196-313230ad279a",
   "metadata": {},
   "outputs": [],
   "source": [
    "import pandas as pd\n",
    "import os\n",
    "import numpy as np"
   ]
  },
  {
   "cell_type": "code",
   "execution_count": 49,
   "id": "93019518-53c8-4e97-9a1c-22522460a97c",
   "metadata": {},
   "outputs": [
    {
     "name": "stdout",
     "output_type": "stream",
     "text": [
      "Hi,\n",
      "\n",
      "some time now the following messages were haunting me:\n",
      "\n",
      "     automount[11593]: attempting to mount entry /home/dude\n",
      "\n",
      "It just came to my attention, that only freshrpm benefitting hosts showed this\n",
      "up. I grepped through the binaries and found referrences to /home/dude.\n",
      "\n",
      "# grep /home/dude /usr/bin/*\n",
      "Binary file /usr/bin/aaxine matches\n",
      "Binary file /usr/bin/gentoo matches\n",
      "Binary file /usr/bin/gphoto2 matches\n",
      "Binary file /usr/bin/gtkam matches\n",
      "...\n",
      "\n",
      "I am now relaxed again ;), and pass this info on. Probably Matthias Saou\n",
      "himself is \"dude\", and some package has hardwired a path in his build\n",
      "directory. It would be nice to find out which and fix it, but I am using too\n",
      "many of the freshrpm suite to narrow it down.\n",
      "\n",
      "Regards, Axel.\n",
      "-- \n",
      "Axel.Thimm@physik.fu-berlin.de\n",
      "\n",
      "_______________________________________________\n",
      "RPM-List mailing list <RPM-List@freshrpms.net>\n",
      "http://lists.freshrpms.net/mailman/listinfo/rpm-list\n",
      "\n"
     ]
    }
   ],
   "source": [
    "boole = False\n",
    "with open(\"data/ham/20021009_easy_ham/easy_ham/0284.4af1f0641ea6aae6a9645dcbeabe95e9\", \"r\") as file:\n",
    "    x = np.array([line.strip(\"\\n\") for line in file.readlines()])\n",
    "    x = x[np.argmax(x==\"\")+1:]\n",
    "    x = \"\\n\".join(x)\n",
    "\n",
    "print(x)"
   ]
  },
  {
   "cell_type": "code",
   "execution_count": 50,
   "id": "f0765470-5290-4ff4-8b52-d12975e8a2da",
   "metadata": {},
   "outputs": [],
   "source": [
    "x = x.replace(\"\\n\", \" \")\n",
    "x = x.replace(\",\", \"\")\n",
    "x = x.lower()"
   ]
  },
  {
   "cell_type": "code",
   "execution_count": 51,
   "id": "24e124e2-712e-4843-9ca6-aecb30890e49",
   "metadata": {},
   "outputs": [],
   "source": [
    "x = np.array(x.split(\" \"))\n",
    "x = x[x != \"\"]\n",
    "x = pd.Series(x).value_counts()"
   ]
  },
  {
   "cell_type": "code",
   "execution_count": 59,
   "id": "ea835871-db77-44b6-bf4c-665c5747c978",
   "metadata": {},
   "outputs": [],
   "source": [
    "x = x[x > 1]"
   ]
  },
  {
   "cell_type": "code",
   "execution_count": 63,
   "id": "564a043c-18db-49ac-b750-799c9ab79e5c",
   "metadata": {},
   "outputs": [
    {
     "data": {
      "text/plain": [
       "{'to': 5,\n",
       " 'it': 4,\n",
       " 'and': 4,\n",
       " 'binary': 4,\n",
       " 'file': 4,\n",
       " 'matches': 4,\n",
       " 'the': 3,\n",
       " 'i': 3,\n",
       " 'this': 2,\n",
       " 'some': 2,\n",
       " 'am': 2,\n",
       " '/home/dude': 2,\n",
       " 'freshrpm': 2,\n",
       " 'now': 2}"
      ]
     },
     "execution_count": 63,
     "metadata": {},
     "output_type": "execute_result"
    }
   ],
   "source": [
    "x.to_dict()"
   ]
  },
  {
   "cell_type": "code",
   "execution_count": 62,
   "id": "ac6fe19d-5336-4120-9108-da415de1187e",
   "metadata": {},
   "outputs": [
    {
     "data": {
      "text/plain": [
       "{'/home/dude',\n",
       " 'am',\n",
       " 'and',\n",
       " 'binary',\n",
       " 'file',\n",
       " 'freshrpm',\n",
       " 'i',\n",
       " 'it',\n",
       " 'matches',\n",
       " 'now',\n",
       " 'some',\n",
       " 'the',\n",
       " 'this',\n",
       " 'to'}"
      ]
     },
     "execution_count": 62,
     "metadata": {},
     "output_type": "execute_result"
    }
   ],
   "source": [
    "set(x.reset_index()[\"index\"].to_numpy())"
   ]
  },
  {
   "cell_type": "code",
   "execution_count": 108,
   "id": "735d53b2-de71-4d4f-9cce-8e8ee2236c1f",
   "metadata": {},
   "outputs": [],
   "source": [
    "word_base = dict()"
   ]
  },
  {
   "cell_type": "code",
   "execution_count": 109,
   "id": "4913ed16-2984-4b59-9aca-6fc48f6b7df6",
   "metadata": {},
   "outputs": [],
   "source": [
    "counter = 0\n",
    "for folder_0 in os.listdir(\"data/ham/\"):\n",
    "    if folder_0 == \"compressed\": continue\n",
    "    folder_1 = os.listdir(\"data/ham/\" + folder_0)[0]\n",
    "    for filename in os.listdir(\"data/ham/\"+folder_0+\"/\" +folder_1):\n",
    "        with open(\"data/ham/\" + folder_0 + \"/\" + folder_1 + \"/\" + filename, \"r\", encoding=\"latin1\") as file:\n",
    "            x = np.array([line.strip(\"\\n\") for line in file.readlines()])\n",
    "            x = x[np.argmax(x==\"\")+1:]\n",
    "            x = \"\\n\".join(x)\n",
    "            x = x.replace(\"\\n\", \" \")\n",
    "            x = x.replace(\",\", \"\")\n",
    "            x = x.replace(\".\", \"\")\n",
    "            x = x.lower()\n",
    "            x = np.array(x.split(\" \"))\n",
    "            x = x[x != \"\"]\n",
    "            x = pd.Series(x).value_counts()\n",
    "            x = x[x > 1]\n",
    "            x = x.to_dict()\n",
    "    \n",
    "            for key, value in x.items():\n",
    "                if key in word_base.keys():\n",
    "                    word_base[key] = word_base[key] + value\n",
    "                else:\n",
    "                    word_base[key] = value\n",
    "        counter+=1"
   ]
  },
  {
   "cell_type": "code",
   "execution_count": 110,
   "id": "0aa44085-382b-4aa1-ae50-1e07e846de1f",
   "metadata": {},
   "outputs": [
    {
     "data": {
      "text/plain": [
       "the                 164970\n",
       ">                   122150\n",
       "to                   96903\n",
       "a                    76033\n",
       "and                  73041\n",
       "                     ...  \n",
       "install                759\n",
       "doesn't                757\n",
       "text-decoration:       756\n",
       "million                756\n",
       "american               754\n",
       "Length: 392, dtype: int64"
      ]
     },
     "execution_count": 110,
     "metadata": {},
     "output_type": "execute_result"
    }
   ],
   "source": [
    "original = pd.Series(word_base)\n",
    "x = original[original > 0.05 * counter]\n",
    "x.sort_values(ascending=False)"
   ]
  },
  {
   "cell_type": "code",
   "execution_count": 111,
   "id": "3d1622d1-692d-4049-9fb1-e8593898e1f5",
   "metadata": {},
   "outputs": [
    {
     "data": {
      "text/plain": [
       "15054"
      ]
     },
     "execution_count": 111,
     "metadata": {},
     "output_type": "execute_result"
    }
   ],
   "source": [
    "counter"
   ]
  },
  {
   "cell_type": "code",
   "execution_count": 106,
   "id": "137a2a4b-863a-427a-bfc1-dee81a4a56f7",
   "metadata": {},
   "outputs": [
    {
     "data": {
      "text/plain": [
       "['20021009_easy_ham',\n",
       " '20021009_hard_ham',\n",
       " '20021010_easy_ham',\n",
       " '20021010_hard_ham',\n",
       " '20021021_easy_ham_2',\n",
       " '20021204_easy_ham',\n",
       " '20021204_easy_ham_2',\n",
       " '20021204_hard_ham',\n",
       " '20030228_easy_ham',\n",
       " '20030228_easy_ham_2']"
      ]
     },
     "execution_count": 106,
     "metadata": {},
     "output_type": "execute_result"
    }
   ],
   "source": [
    "os.listdir(\"data/ham/\")[:-1]"
   ]
  },
  {
   "cell_type": "code",
   "execution_count": 112,
   "id": "f21827f5-d3ce-4055-b4ed-091f0a5dcc88",
   "metadata": {},
   "outputs": [],
   "source": [
    "import pickle"
   ]
  },
  {
   "cell_type": "code",
   "execution_count": 114,
   "id": "f162c48c-abd1-4873-9dff-d2691079d1b5",
   "metadata": {},
   "outputs": [],
   "source": [
    "with open(\"counted_ham.pkl\", \"wb\") as file:\n",
    "    pickle.dump(original, file=file)"
   ]
  },
  {
   "cell_type": "code",
   "execution_count": 116,
   "id": "63c9aaba-0cfa-434b-a883-51ba3e2b1c51",
   "metadata": {},
   "outputs": [],
   "source": [
    "with open(\"counted_ham.pkl\", \"rb\") as file:\n",
    "    d = pickle.load(file=file)"
   ]
  },
  {
   "cell_type": "code",
   "execution_count": 118,
   "id": "ada1f05c-f1a9-4531-854b-c27944485078",
   "metadata": {},
   "outputs": [
    {
     "data": {
      "text/plain": [
       "the                                      164970\n",
       ">                                        122150\n",
       "to                                        96903\n",
       "a                                         76033\n",
       "and                                       73041\n",
       "                                          ...  \n",
       "012931bfec3fa6ca7c5fbc5bd7ffdfe2c2780         2\n",
       "012947f208bf4ae152863fd40f25e2e121d49         2\n",
       "012951b31839d0a6ab3c696ab369b5b40c70f         2\n",
       "0129616fcf1ce6a407c71b1ea5ef04ded98f9         2\n",
       "013332fe6c479eb5eb14b6284188771522355         2\n",
       "Length: 23895, dtype: int64"
      ]
     },
     "execution_count": 118,
     "metadata": {},
     "output_type": "execute_result"
    }
   ],
   "source": [
    "d.sort_values(ascending=False)"
   ]
  },
  {
   "cell_type": "code",
   "execution_count": null,
   "id": "4de4eaec-4e01-4030-b58f-e9c3414894dc",
   "metadata": {},
   "outputs": [],
   "source": []
  }
 ],
 "metadata": {
  "kernelspec": {
   "display_name": "Python 3 (ipykernel)",
   "language": "python",
   "name": "python3"
  },
  "language_info": {
   "codemirror_mode": {
    "name": "ipython",
    "version": 3
   },
   "file_extension": ".py",
   "mimetype": "text/x-python",
   "name": "python",
   "nbconvert_exporter": "python",
   "pygments_lexer": "ipython3",
   "version": "3.10.0"
  }
 },
 "nbformat": 4,
 "nbformat_minor": 5
}
