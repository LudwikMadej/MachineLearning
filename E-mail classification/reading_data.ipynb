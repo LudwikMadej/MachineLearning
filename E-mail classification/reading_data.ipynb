{
 "cells": [
  {
   "cell_type": "code",
   "execution_count": 1,
   "id": "10acac76-1f57-4350-8196-313230ad279a",
   "metadata": {},
   "outputs": [],
   "source": [
    "import pandas as pd\n",
    "import os\n",
    "import numpy as np"
   ]
  },
  {
   "cell_type": "code",
   "execution_count": 2,
   "id": "93019518-53c8-4e97-9a1c-22522460a97c",
   "metadata": {},
   "outputs": [
    {
     "name": "stdout",
     "output_type": "stream",
     "text": [
      "Hi,\n",
      "\n",
      "some time now the following messages were haunting me:\n",
      "\n",
      "     automount[11593]: attempting to mount entry /home/dude\n",
      "\n",
      "It just came to my attention, that only freshrpm benefitting hosts showed this\n",
      "up. I grepped through the binaries and found referrences to /home/dude.\n",
      "\n",
      "# grep /home/dude /usr/bin/*\n",
      "Binary file /usr/bin/aaxine matches\n",
      "Binary file /usr/bin/gentoo matches\n",
      "Binary file /usr/bin/gphoto2 matches\n",
      "Binary file /usr/bin/gtkam matches\n",
      "...\n",
      "\n",
      "I am now relaxed again ;), and pass this info on. Probably Matthias Saou\n",
      "himself is \"dude\", and some package has hardwired a path in his build\n",
      "directory. It would be nice to find out which and fix it, but I am using too\n",
      "many of the freshrpm suite to narrow it down.\n",
      "\n",
      "Regards, Axel.\n",
      "-- \n",
      "Axel.Thimm@physik.fu-berlin.de\n",
      "\n",
      "_______________________________________________\n",
      "RPM-List mailing list <RPM-List@freshrpms.net>\n",
      "http://lists.freshrpms.net/mailman/listinfo/rpm-list\n",
      "\n"
     ]
    }
   ],
   "source": [
    "with open(\"data/ham/20021009_easy_ham/easy_ham/0284.4af1f0641ea6aae6a9645dcbeabe95e9\", \"r\") as file:\n",
    "    x = np.array([line.strip(\"\\n\") for line in file.readlines()])\n",
    "    x = x[np.argmax(x==\"\")+1:]\n",
    "    x = \"\\n\".join(x)\n",
    "\n",
    "print(x)"
   ]
  },
  {
   "cell_type": "code",
   "execution_count": 50,
   "id": "f0765470-5290-4ff4-8b52-d12975e8a2da",
   "metadata": {},
   "outputs": [],
   "source": [
    "x = x.replace(\"\\n\", \" \")\n",
    "x = x.replace(\",\", \"\")\n",
    "x = x.lower()"
   ]
  },
  {
   "cell_type": "code",
   "execution_count": 51,
   "id": "24e124e2-712e-4843-9ca6-aecb30890e49",
   "metadata": {},
   "outputs": [],
   "source": [
    "x = np.array(x.split(\" \"))\n",
    "x = x[x != \"\"]\n",
    "x = pd.Series(x).value_counts()"
   ]
  },
  {
   "cell_type": "code",
   "execution_count": 59,
   "id": "ea835871-db77-44b6-bf4c-665c5747c978",
   "metadata": {},
   "outputs": [],
   "source": [
    "x = x[x > 1]"
   ]
  },
  {
   "cell_type": "code",
   "execution_count": 63,
   "id": "564a043c-18db-49ac-b750-799c9ab79e5c",
   "metadata": {},
   "outputs": [
    {
     "data": {
      "text/plain": [
       "{'to': 5,\n",
       " 'it': 4,\n",
       " 'and': 4,\n",
       " 'binary': 4,\n",
       " 'file': 4,\n",
       " 'matches': 4,\n",
       " 'the': 3,\n",
       " 'i': 3,\n",
       " 'this': 2,\n",
       " 'some': 2,\n",
       " 'am': 2,\n",
       " '/home/dude': 2,\n",
       " 'freshrpm': 2,\n",
       " 'now': 2}"
      ]
     },
     "execution_count": 63,
     "metadata": {},
     "output_type": "execute_result"
    }
   ],
   "source": [
    "x.to_dict()"
   ]
  },
  {
   "cell_type": "code",
   "execution_count": 109,
   "id": "4913ed16-2984-4b59-9aca-6fc48f6b7df6",
   "metadata": {},
   "outputs": [],
   "source": [
    "counter = 0\n",
    "for folder_0 in os.listdir(\"data/ham/\"):\n",
    "    if folder_0 == \"compressed\": continue\n",
    "    folder_1 = os.listdir(\"data/ham/\" + folder_0)[0]\n",
    "    for filename in os.listdir(\"data/ham/\"+folder_0+\"/\" +folder_1):\n",
    "        with open(\"data/ham/\" + folder_0 + \"/\" + folder_1 + \"/\" + filename, \"r\", encoding=\"latin1\") as file:\n",
    "            x = np.array([line.strip(\"\\n\") for line in file.readlines()])\n",
    "            x = x[np.argmax(x==\"\")+1:]\n",
    "            x = \"\\n\".join(x)\n",
    "            x = x.replace(\"\\n\", \" \")\n",
    "            x = x.replace(\",\", \"\")\n",
    "            x = x.replace(\".\", \"\")\n",
    "            x = x.lower()\n",
    "            x = np.array(x.split(\" \"))\n",
    "            x = x[x != \"\"]\n",
    "            x = pd.Series(x).value_counts()\n",
    "            x = x[x > 1]\n",
    "            x = x.to_dict()\n",
    "    \n",
    "            for key, value in x.items():\n",
    "                if key in word_base.keys():\n",
    "                    word_base[key] = word_base[key] + value\n",
    "                else:\n",
    "                    word_base[key] = value\n",
    "        counter+=1"
   ]
  },
  {
   "cell_type": "code",
   "execution_count": 5,
   "id": "4de4eaec-4e01-4030-b58f-e9c3414894dc",
   "metadata": {},
   "outputs": [],
   "source": [
    "ham = []\n",
    "\n",
    "for folder_0 in os.listdir(\"data/ham/\"):\n",
    "    if folder_0 == \"compressed\": continue\n",
    "    folder_1 = os.listdir(\"data/ham/\" + folder_0)[0]\n",
    "    for filename in os.listdir(\"data/ham/\"+folder_0+\"/\" +folder_1):\n",
    "        with open(\"data/ham/\" + folder_0 + \"/\" + folder_1 + \"/\" + filename, \"r\", encoding=\"latin1\") as file:\n",
    "            ham.append((0 if \"easy\" in folder_1 else 1, \".\".join(file.readlines())))"
   ]
  },
  {
   "cell_type": "code",
   "execution_count": 7,
   "id": "53bde30f-db93-4767-ba33-d4002f8b9cd8",
   "metadata": {},
   "outputs": [],
   "source": [
    "ham = pd.DataFrame(ham, columns=[\"Status\", \"Message\"])"
   ]
  },
  {
   "cell_type": "code",
   "execution_count": 12,
   "id": "576673a0-84c4-46b0-acef-bb11a33a334e",
   "metadata": {},
   "outputs": [],
   "source": [
    "spam = []\n",
    "for folder_0 in os.listdir(\"data/spam/\"):\n",
    "    if folder_0 == \"compressed\": continue\n",
    "    folder_1 = os.listdir(\"data/spam/\" + folder_0)[0]\n",
    "    for filename in os.listdir(\"data/spam/\"+folder_0+\"/\" +folder_1):\n",
    "        with open(\"data/spam/\" + folder_0 + \"/\" + folder_1 + \"/\" + filename, \"r\", encoding=\"latin1\") as file:\n",
    "            spam.append((2, \".\".join(file.readlines())))"
   ]
  },
  {
   "cell_type": "code",
   "execution_count": 22,
   "id": "fd4998aa-98dc-4d24-8775-01b02a76c0d7",
   "metadata": {},
   "outputs": [
    {
     "name": "stdout",
     "output_type": "stream",
     "text": [
      "From apache@ns3.super-hosts.com  Mon Jul 29 11:26:41 2002\n",
      ".Return-Path: <apache@ns3.super-hosts.com>\n",
      ".Delivered-To: yyyy@localhost.netnoteinc.com\n",
      ".Received: from localhost (localhost [127.0.0.1])\n",
      ".\tby phobos.labs.netnoteinc.com (Postfix) with ESMTP id 4FDCD44133\n",
      ".\tfor <jm@localhost>; Mon, 29 Jul 2002 06:24:35 -0400 (EDT)\n",
      ".Received: from phobos [127.0.0.1]\n",
      ".\tby localhost with IMAP (fetchmail-5.9.0)\n",
      ".\tfor jm@localhost (single-drop); Mon, 29 Jul 2002 11:24:35 +0100 (IST)\n",
      ".Received: from ns3.super-hosts.com (super-hosts.com [216.12.213.215] (may\n",
      ".    be forged)) by dogma.slashnull.org (8.11.6/8.11.6) with ESMTP id\n",
      ".    g6SJpsi21292 for <jm-fm@jmason.org>; Sun, 28 Jul 2002 20:51:54 +0100\n",
      ".Received: (from apache@localhost) by ns3.super-hosts.com (8.11.6/8.11.6)\n",
      ".    id g6SJxup26416; Sun, 28 Jul 2002 15:59:56 -0400\n",
      ".Date: Sun, 28 Jul 2002 15:59:56 -0400\n",
      ".Message-Id: <200207281959.g6SJxup26416@ns3.super-hosts.com>\n",
      ".To: remi@a2zis.com, yyyy-fm@spamassassin.taint.org, nick@fargus.net,\n",
      ".\tearlhood@usa.net, mdl@chat.ru\n",
      ".From: spock@1andonly.com ()\n",
      ".Subject: Free Cell phone with any Plan!\n",
      ".\n",
      ".Below is the result of your feedback form.  It was submitted by  (spock@1andonly.com) on Sunday, July 28, 19102 at 15:59:55\n",
      ".---------------------------------------------------------------------------\n",
      ".\n",
      ".message: Free Cell phone with any Plan! We have all the latest Phones for FREE!!!! Please click the link below to Choose your Free Cellphone! - http://www.reelten.com/redirect/index.html - Deals with Verizon, Pacbell, ATT, and many more! -        If you have received this Email in error please contact: lon_chaney_jr@hotmail.com with subject: remove. \n",
      ".\n",
      ".---------------------------------------------------------------------------\n",
      ".\n",
      ".\n",
      "\n"
     ]
    }
   ],
   "source": [
    "print(spam[4050][1])"
   ]
  },
  {
   "cell_type": "code",
   "execution_count": 23,
   "id": "5a789a2e-4157-4b23-95c6-ddf596c85f37",
   "metadata": {},
   "outputs": [],
   "source": [
    "spam = pd.DataFrame(spam, columns=[\"Status\", \"Message\"])"
   ]
  },
  {
   "cell_type": "code",
   "execution_count": 29,
   "id": "83f7faa6-a486-4934-afa5-b9d78be07436",
   "metadata": {},
   "outputs": [],
   "source": [
    "from sklearn.model_selection import train_test_split"
   ]
  },
  {
   "cell_type": "code",
   "execution_count": 31,
   "id": "c1ddd02d-ffef-4c3b-a38d-1b7417671897",
   "metadata": {},
   "outputs": [],
   "source": [
    "X = pd.concat([spam, ham])"
   ]
  },
  {
   "cell_type": "code",
   "execution_count": 32,
   "id": "02e756c6-edd5-4cef-9e0a-1b3fe6ebab70",
   "metadata": {},
   "outputs": [
    {
     "data": {
      "text/plain": [
       "(19352, 2)"
      ]
     },
     "execution_count": 32,
     "metadata": {},
     "output_type": "execute_result"
    }
   ],
   "source": [
    "X.shape"
   ]
  },
  {
   "cell_type": "code",
   "execution_count": 78,
   "id": "286acf15-7b7c-4110-b21d-5dfef3fe5309",
   "metadata": {},
   "outputs": [],
   "source": [
    "X_train, X_test = train_test_split(X, test_size=0.1, random_state=42, stratify=X[\"Status\"])"
   ]
  },
  {
   "cell_type": "code",
   "execution_count": 79,
   "id": "2cfd768d-c5d7-4be2-9e32-ea4c66388246",
   "metadata": {},
   "outputs": [
    {
     "data": {
      "text/plain": [
       "Status\n",
       "0    12873\n",
       "2     3868\n",
       "1      675\n",
       "Name: count, dtype: int64"
      ]
     },
     "execution_count": 79,
     "metadata": {},
     "output_type": "execute_result"
    }
   ],
   "source": [
    "X_train[\"Status\"].value_counts()"
   ]
  },
  {
   "cell_type": "code",
   "execution_count": 80,
   "id": "b1639471-06ca-4d18-9b43-85d458bf48db",
   "metadata": {},
   "outputs": [
    {
     "data": {
      "text/plain": [
       "Status\n",
       "0    1431\n",
       "2     430\n",
       "1      75\n",
       "Name: count, dtype: int64"
      ]
     },
     "execution_count": 80,
     "metadata": {},
     "output_type": "execute_result"
    }
   ],
   "source": [
    "X_test[\"Status\"].value_counts()"
   ]
  },
  {
   "cell_type": "code",
   "execution_count": 81,
   "id": "91a1cdca-bf6a-4ba4-9474-f7a1f582aa8e",
   "metadata": {},
   "outputs": [
    {
     "data": {
      "text/plain": [
       "np.False_"
      ]
     },
     "execution_count": 81,
     "metadata": {},
     "output_type": "execute_result"
    }
   ],
   "source": [
    "np.any(X_train[\"Message\"].str.contains(\"Π\"))"
   ]
  },
  {
   "cell_type": "code",
   "execution_count": 82,
   "id": "901f95d1-64be-445c-ae1a-5c11934d4f4b",
   "metadata": {},
   "outputs": [],
   "source": [
    "X_train.to_csv(\"data/train.csv\", sep=\"Π\", encoding=\"utf_8\")"
   ]
  },
  {
   "cell_type": "code",
   "execution_count": 46,
   "id": "ff81f201-7623-4c90-bb14-a2b91429fe47",
   "metadata": {},
   "outputs": [
    {
     "name": "stderr",
     "output_type": "stream",
     "text": [
      "C:\\Users\\User\\AppData\\Local\\Temp\\ipykernel_21028\\2454191965.py:1: ParserWarning: Falling back to the 'python' engine because the separator encoded in utf-8 is > 1 char long, and the 'c' engine does not support such separators; you can avoid this warning by specifying engine='python'.\n",
      "  training = pd.read_csv(\"data/train.csv\", sep=\"Π\")\n"
     ]
    },
    {
     "ename": "ParserError",
     "evalue": "field larger than field limit (131072)",
     "output_type": "error",
     "traceback": [
      "\u001b[1;31m---------------------------------------------------------------------------\u001b[0m",
      "\u001b[1;31mError\u001b[0m                                     Traceback (most recent call last)",
      "File \u001b[1;32m~\\AppData\\Local\\Programs\\Python\\Python310\\lib\\site-packages\\pandas\\io\\parsers\\python_parser.py:805\u001b[0m, in \u001b[0;36mPythonParser._next_iter_line\u001b[1;34m(self, row_num)\u001b[0m\n\u001b[0;32m    804\u001b[0m \u001b[38;5;28;01massert\u001b[39;00m \u001b[38;5;28mself\u001b[39m\u001b[38;5;241m.\u001b[39mdata \u001b[38;5;129;01mis\u001b[39;00m \u001b[38;5;129;01mnot\u001b[39;00m \u001b[38;5;28;01mNone\u001b[39;00m\n\u001b[1;32m--> 805\u001b[0m line \u001b[38;5;241m=\u001b[39m \u001b[38;5;28;43mnext\u001b[39;49m\u001b[43m(\u001b[49m\u001b[38;5;28;43mself\u001b[39;49m\u001b[38;5;241;43m.\u001b[39;49m\u001b[43mdata\u001b[49m\u001b[43m)\u001b[49m\n\u001b[0;32m    806\u001b[0m \u001b[38;5;66;03m# for mypy\u001b[39;00m\n",
      "\u001b[1;31mError\u001b[0m: field larger than field limit (131072)",
      "\nDuring handling of the above exception, another exception occurred:\n",
      "\u001b[1;31mParserError\u001b[0m                               Traceback (most recent call last)",
      "Cell \u001b[1;32mIn[46], line 1\u001b[0m\n\u001b[1;32m----> 1\u001b[0m training \u001b[38;5;241m=\u001b[39m \u001b[43mpd\u001b[49m\u001b[38;5;241;43m.\u001b[39;49m\u001b[43mread_csv\u001b[49m\u001b[43m(\u001b[49m\u001b[38;5;124;43m\"\u001b[39;49m\u001b[38;5;124;43mdata/train.csv\u001b[39;49m\u001b[38;5;124;43m\"\u001b[39;49m\u001b[43m,\u001b[49m\u001b[43m \u001b[49m\u001b[43msep\u001b[49m\u001b[38;5;241;43m=\u001b[39;49m\u001b[38;5;124;43m\"\u001b[39;49m\u001b[38;5;124;43mΠ\u001b[39;49m\u001b[38;5;124;43m\"\u001b[39;49m\u001b[43m)\u001b[49m\n",
      "File \u001b[1;32m~\\AppData\\Local\\Programs\\Python\\Python310\\lib\\site-packages\\pandas\\io\\parsers\\readers.py:1026\u001b[0m, in \u001b[0;36mread_csv\u001b[1;34m(filepath_or_buffer, sep, delimiter, header, names, index_col, usecols, dtype, engine, converters, true_values, false_values, skipinitialspace, skiprows, skipfooter, nrows, na_values, keep_default_na, na_filter, verbose, skip_blank_lines, parse_dates, infer_datetime_format, keep_date_col, date_parser, date_format, dayfirst, cache_dates, iterator, chunksize, compression, thousands, decimal, lineterminator, quotechar, quoting, doublequote, escapechar, comment, encoding, encoding_errors, dialect, on_bad_lines, delim_whitespace, low_memory, memory_map, float_precision, storage_options, dtype_backend)\u001b[0m\n\u001b[0;32m   1013\u001b[0m kwds_defaults \u001b[38;5;241m=\u001b[39m _refine_defaults_read(\n\u001b[0;32m   1014\u001b[0m     dialect,\n\u001b[0;32m   1015\u001b[0m     delimiter,\n\u001b[1;32m   (...)\u001b[0m\n\u001b[0;32m   1022\u001b[0m     dtype_backend\u001b[38;5;241m=\u001b[39mdtype_backend,\n\u001b[0;32m   1023\u001b[0m )\n\u001b[0;32m   1024\u001b[0m kwds\u001b[38;5;241m.\u001b[39mupdate(kwds_defaults)\n\u001b[1;32m-> 1026\u001b[0m \u001b[38;5;28;01mreturn\u001b[39;00m \u001b[43m_read\u001b[49m\u001b[43m(\u001b[49m\u001b[43mfilepath_or_buffer\u001b[49m\u001b[43m,\u001b[49m\u001b[43m \u001b[49m\u001b[43mkwds\u001b[49m\u001b[43m)\u001b[49m\n",
      "File \u001b[1;32m~\\AppData\\Local\\Programs\\Python\\Python310\\lib\\site-packages\\pandas\\io\\parsers\\readers.py:626\u001b[0m, in \u001b[0;36m_read\u001b[1;34m(filepath_or_buffer, kwds)\u001b[0m\n\u001b[0;32m    623\u001b[0m     \u001b[38;5;28;01mreturn\u001b[39;00m parser\n\u001b[0;32m    625\u001b[0m \u001b[38;5;28;01mwith\u001b[39;00m parser:\n\u001b[1;32m--> 626\u001b[0m     \u001b[38;5;28;01mreturn\u001b[39;00m \u001b[43mparser\u001b[49m\u001b[38;5;241;43m.\u001b[39;49m\u001b[43mread\u001b[49m\u001b[43m(\u001b[49m\u001b[43mnrows\u001b[49m\u001b[43m)\u001b[49m\n",
      "File \u001b[1;32m~\\AppData\\Local\\Programs\\Python\\Python310\\lib\\site-packages\\pandas\\io\\parsers\\readers.py:1923\u001b[0m, in \u001b[0;36mTextFileReader.read\u001b[1;34m(self, nrows)\u001b[0m\n\u001b[0;32m   1916\u001b[0m nrows \u001b[38;5;241m=\u001b[39m validate_integer(\u001b[38;5;124m\"\u001b[39m\u001b[38;5;124mnrows\u001b[39m\u001b[38;5;124m\"\u001b[39m, nrows)\n\u001b[0;32m   1917\u001b[0m \u001b[38;5;28;01mtry\u001b[39;00m:\n\u001b[0;32m   1918\u001b[0m     \u001b[38;5;66;03m# error: \"ParserBase\" has no attribute \"read\"\u001b[39;00m\n\u001b[0;32m   1919\u001b[0m     (\n\u001b[0;32m   1920\u001b[0m         index,\n\u001b[0;32m   1921\u001b[0m         columns,\n\u001b[0;32m   1922\u001b[0m         col_dict,\n\u001b[1;32m-> 1923\u001b[0m     ) \u001b[38;5;241m=\u001b[39m \u001b[38;5;28;43mself\u001b[39;49m\u001b[38;5;241;43m.\u001b[39;49m\u001b[43m_engine\u001b[49m\u001b[38;5;241;43m.\u001b[39;49m\u001b[43mread\u001b[49m\u001b[43m(\u001b[49m\u001b[43m  \u001b[49m\u001b[38;5;66;43;03m# type: ignore[attr-defined]\u001b[39;49;00m\n\u001b[0;32m   1924\u001b[0m \u001b[43m        \u001b[49m\u001b[43mnrows\u001b[49m\n\u001b[0;32m   1925\u001b[0m \u001b[43m    \u001b[49m\u001b[43m)\u001b[49m\n\u001b[0;32m   1926\u001b[0m \u001b[38;5;28;01mexcept\u001b[39;00m \u001b[38;5;167;01mException\u001b[39;00m:\n\u001b[0;32m   1927\u001b[0m     \u001b[38;5;28mself\u001b[39m\u001b[38;5;241m.\u001b[39mclose()\n",
      "File \u001b[1;32m~\\AppData\\Local\\Programs\\Python\\Python310\\lib\\site-packages\\pandas\\io\\parsers\\python_parser.py:252\u001b[0m, in \u001b[0;36mPythonParser.read\u001b[1;34m(self, rows)\u001b[0m\n\u001b[0;32m    246\u001b[0m \u001b[38;5;28;01mdef\u001b[39;00m\u001b[38;5;250m \u001b[39m\u001b[38;5;21mread\u001b[39m(\n\u001b[0;32m    247\u001b[0m     \u001b[38;5;28mself\u001b[39m, rows: \u001b[38;5;28mint\u001b[39m \u001b[38;5;241m|\u001b[39m \u001b[38;5;28;01mNone\u001b[39;00m \u001b[38;5;241m=\u001b[39m \u001b[38;5;28;01mNone\u001b[39;00m\n\u001b[0;32m    248\u001b[0m ) \u001b[38;5;241m-\u001b[39m\u001b[38;5;241m>\u001b[39m \u001b[38;5;28mtuple\u001b[39m[\n\u001b[0;32m    249\u001b[0m     Index \u001b[38;5;241m|\u001b[39m \u001b[38;5;28;01mNone\u001b[39;00m, Sequence[Hashable] \u001b[38;5;241m|\u001b[39m MultiIndex, Mapping[Hashable, ArrayLike]\n\u001b[0;32m    250\u001b[0m ]:\n\u001b[0;32m    251\u001b[0m     \u001b[38;5;28;01mtry\u001b[39;00m:\n\u001b[1;32m--> 252\u001b[0m         content \u001b[38;5;241m=\u001b[39m \u001b[38;5;28;43mself\u001b[39;49m\u001b[38;5;241;43m.\u001b[39;49m\u001b[43m_get_lines\u001b[49m\u001b[43m(\u001b[49m\u001b[43mrows\u001b[49m\u001b[43m)\u001b[49m\n\u001b[0;32m    253\u001b[0m     \u001b[38;5;28;01mexcept\u001b[39;00m \u001b[38;5;167;01mStopIteration\u001b[39;00m:\n\u001b[0;32m    254\u001b[0m         \u001b[38;5;28;01mif\u001b[39;00m \u001b[38;5;28mself\u001b[39m\u001b[38;5;241m.\u001b[39m_first_chunk:\n",
      "File \u001b[1;32m~\\AppData\\Local\\Programs\\Python\\Python310\\lib\\site-packages\\pandas\\io\\parsers\\python_parser.py:1140\u001b[0m, in \u001b[0;36mPythonParser._get_lines\u001b[1;34m(self, rows)\u001b[0m\n\u001b[0;32m   1137\u001b[0m rows \u001b[38;5;241m=\u001b[39m \u001b[38;5;241m0\u001b[39m\n\u001b[0;32m   1139\u001b[0m \u001b[38;5;28;01mwhile\u001b[39;00m \u001b[38;5;28;01mTrue\u001b[39;00m:\n\u001b[1;32m-> 1140\u001b[0m     next_row \u001b[38;5;241m=\u001b[39m \u001b[38;5;28;43mself\u001b[39;49m\u001b[38;5;241;43m.\u001b[39;49m\u001b[43m_next_iter_line\u001b[49m\u001b[43m(\u001b[49m\u001b[43mrow_num\u001b[49m\u001b[38;5;241;43m=\u001b[39;49m\u001b[38;5;28;43mself\u001b[39;49m\u001b[38;5;241;43m.\u001b[39;49m\u001b[43mpos\u001b[49m\u001b[43m \u001b[49m\u001b[38;5;241;43m+\u001b[39;49m\u001b[43m \u001b[49m\u001b[43mrows\u001b[49m\u001b[43m \u001b[49m\u001b[38;5;241;43m+\u001b[39;49m\u001b[43m \u001b[49m\u001b[38;5;241;43m1\u001b[39;49m\u001b[43m)\u001b[49m\n\u001b[0;32m   1141\u001b[0m     rows \u001b[38;5;241m+\u001b[39m\u001b[38;5;241m=\u001b[39m \u001b[38;5;241m1\u001b[39m\n\u001b[0;32m   1143\u001b[0m     \u001b[38;5;28;01mif\u001b[39;00m next_row \u001b[38;5;129;01mis\u001b[39;00m \u001b[38;5;129;01mnot\u001b[39;00m \u001b[38;5;28;01mNone\u001b[39;00m:\n",
      "File \u001b[1;32m~\\AppData\\Local\\Programs\\Python\\Python310\\lib\\site-packages\\pandas\\io\\parsers\\python_parser.py:834\u001b[0m, in \u001b[0;36mPythonParser._next_iter_line\u001b[1;34m(self, row_num)\u001b[0m\n\u001b[0;32m    825\u001b[0m         reason \u001b[38;5;241m=\u001b[39m (\n\u001b[0;32m    826\u001b[0m             \u001b[38;5;124m\"\u001b[39m\u001b[38;5;124mError could possibly be due to \u001b[39m\u001b[38;5;124m\"\u001b[39m\n\u001b[0;32m    827\u001b[0m             \u001b[38;5;124m\"\u001b[39m\u001b[38;5;124mparsing errors in the skipped footer rows \u001b[39m\u001b[38;5;124m\"\u001b[39m\n\u001b[1;32m   (...)\u001b[0m\n\u001b[0;32m    830\u001b[0m             \u001b[38;5;124m\"\u001b[39m\u001b[38;5;124mall rows).\u001b[39m\u001b[38;5;124m\"\u001b[39m\n\u001b[0;32m    831\u001b[0m         )\n\u001b[0;32m    832\u001b[0m         msg \u001b[38;5;241m+\u001b[39m\u001b[38;5;241m=\u001b[39m \u001b[38;5;124m\"\u001b[39m\u001b[38;5;124m. \u001b[39m\u001b[38;5;124m\"\u001b[39m \u001b[38;5;241m+\u001b[39m reason\n\u001b[1;32m--> 834\u001b[0m     \u001b[38;5;28;43mself\u001b[39;49m\u001b[38;5;241;43m.\u001b[39;49m\u001b[43m_alert_malformed\u001b[49m\u001b[43m(\u001b[49m\u001b[43mmsg\u001b[49m\u001b[43m,\u001b[49m\u001b[43m \u001b[49m\u001b[43mrow_num\u001b[49m\u001b[43m)\u001b[49m\n\u001b[0;32m    835\u001b[0m \u001b[38;5;28;01mreturn\u001b[39;00m \u001b[38;5;28;01mNone\u001b[39;00m\n",
      "File \u001b[1;32m~\\AppData\\Local\\Programs\\Python\\Python310\\lib\\site-packages\\pandas\\io\\parsers\\python_parser.py:781\u001b[0m, in \u001b[0;36mPythonParser._alert_malformed\u001b[1;34m(self, msg, row_num)\u001b[0m\n\u001b[0;32m    764\u001b[0m \u001b[38;5;250m\u001b[39m\u001b[38;5;124;03m\"\"\"\u001b[39;00m\n\u001b[0;32m    765\u001b[0m \u001b[38;5;124;03mAlert a user about a malformed row, depending on value of\u001b[39;00m\n\u001b[0;32m    766\u001b[0m \u001b[38;5;124;03m`self.on_bad_lines` enum.\u001b[39;00m\n\u001b[1;32m   (...)\u001b[0m\n\u001b[0;32m    778\u001b[0m \u001b[38;5;124;03m    even though we 0-index internally.\u001b[39;00m\n\u001b[0;32m    779\u001b[0m \u001b[38;5;124;03m\"\"\"\u001b[39;00m\n\u001b[0;32m    780\u001b[0m \u001b[38;5;28;01mif\u001b[39;00m \u001b[38;5;28mself\u001b[39m\u001b[38;5;241m.\u001b[39mon_bad_lines \u001b[38;5;241m==\u001b[39m \u001b[38;5;28mself\u001b[39m\u001b[38;5;241m.\u001b[39mBadLineHandleMethod\u001b[38;5;241m.\u001b[39mERROR:\n\u001b[1;32m--> 781\u001b[0m     \u001b[38;5;28;01mraise\u001b[39;00m ParserError(msg)\n\u001b[0;32m    782\u001b[0m \u001b[38;5;28;01mif\u001b[39;00m \u001b[38;5;28mself\u001b[39m\u001b[38;5;241m.\u001b[39mon_bad_lines \u001b[38;5;241m==\u001b[39m \u001b[38;5;28mself\u001b[39m\u001b[38;5;241m.\u001b[39mBadLineHandleMethod\u001b[38;5;241m.\u001b[39mWARN:\n\u001b[0;32m    783\u001b[0m     warnings\u001b[38;5;241m.\u001b[39mwarn(\n\u001b[0;32m    784\u001b[0m         \u001b[38;5;124mf\u001b[39m\u001b[38;5;124m\"\u001b[39m\u001b[38;5;124mSkipping line \u001b[39m\u001b[38;5;132;01m{\u001b[39;00mrow_num\u001b[38;5;132;01m}\u001b[39;00m\u001b[38;5;124m: \u001b[39m\u001b[38;5;132;01m{\u001b[39;00mmsg\u001b[38;5;132;01m}\u001b[39;00m\u001b[38;5;130;01m\\n\u001b[39;00m\u001b[38;5;124m\"\u001b[39m,\n\u001b[0;32m    785\u001b[0m         ParserWarning,\n\u001b[0;32m    786\u001b[0m         stacklevel\u001b[38;5;241m=\u001b[39mfind_stack_level(),\n\u001b[0;32m    787\u001b[0m     )\n",
      "\u001b[1;31mParserError\u001b[0m: field larger than field limit (131072)"
     ]
    }
   ],
   "source": [
    "training = pd.read_csv(\"data/train.csv\", sep=\"Π\")"
   ]
  },
  {
   "cell_type": "code",
   "execution_count": 62,
   "id": "3247d0c8-15b0-439d-b0f8-e554b3f572bf",
   "metadata": {},
   "outputs": [],
   "source": [
    "def load_data(path, delimeter=\",\", colnames=[], encoding=\"utf_8\"):\n",
    "    import pandas as pd\n",
    "    records = []\n",
    "    with open(path, \"r\", encoding=encoding) as file:\n",
    "        for line in file.readlines():\n",
    "            line = line.strip(\"\\n\").split(delimeter)\n",
    "            records.append(line)\n",
    "\n",
    "    df = pd.DataFrame(records)\n",
    "    if colnames: df.columns = colnames\n",
    "\n",
    "    return df"
   ]
  },
  {
   "cell_type": "code",
   "execution_count": 63,
   "id": "7f7aabf7-00f9-4c15-8a68-9529d685c0ee",
   "metadata": {},
   "outputs": [],
   "source": [
    "Z = load_data(\"data/train.csv\", delimeter=\"Π\")"
   ]
  },
  {
   "cell_type": "code",
   "execution_count": 64,
   "id": "8eb593d7-dad9-4c4d-b845-11c7bbb4f11c",
   "metadata": {},
   "outputs": [
    {
     "data": {
      "text/html": [
       "<div>\n",
       "<style scoped>\n",
       "    .dataframe tbody tr th:only-of-type {\n",
       "        vertical-align: middle;\n",
       "    }\n",
       "\n",
       "    .dataframe tbody tr th {\n",
       "        vertical-align: top;\n",
       "    }\n",
       "\n",
       "    .dataframe thead th {\n",
       "        text-align: right;\n",
       "    }\n",
       "</style>\n",
       "<table border=\"1\" class=\"dataframe\">\n",
       "  <thead>\n",
       "    <tr style=\"text-align: right;\">\n",
       "      <th></th>\n",
       "      <th>0</th>\n",
       "      <th>1</th>\n",
       "      <th>2</th>\n",
       "    </tr>\n",
       "  </thead>\n",
       "  <tbody>\n",
       "    <tr>\n",
       "      <th>0</th>\n",
       "      <td></td>\n",
       "      <td>Status</td>\n",
       "      <td>Message</td>\n",
       "    </tr>\n",
       "    <tr>\n",
       "      <th>1</th>\n",
       "      <td>3471</td>\n",
       "      <td>2</td>\n",
       "      <td>\"From ong@litou.com  Mon Jun 24 17:53:04 2002</td>\n",
       "    </tr>\n",
       "    <tr>\n",
       "      <th>2</th>\n",
       "      <td>.Return-Path: ong@litou.com</td>\n",
       "      <td>None</td>\n",
       "      <td>None</td>\n",
       "    </tr>\n",
       "    <tr>\n",
       "      <th>3</th>\n",
       "      <td>.Delivery-Date: Mon Jun  3 12:18:39 2002</td>\n",
       "      <td>None</td>\n",
       "      <td>None</td>\n",
       "    </tr>\n",
       "    <tr>\n",
       "      <th>4</th>\n",
       "      <td>.Received: from smtp3.9tel.net (smtp.9tel.net ...</td>\n",
       "      <td>None</td>\n",
       "      <td>None</td>\n",
       "    </tr>\n",
       "    <tr>\n",
       "      <th>...</th>\n",
       "      <td>...</td>\n",
       "      <td>...</td>\n",
       "      <td>...</td>\n",
       "    </tr>\n",
       "    <tr>\n",
       "      <th>1643583</th>\n",
       "      <td>.[2] http://www.sweatyfrog.com/index2.html</td>\n",
       "      <td>None</td>\n",
       "      <td>None</td>\n",
       "    </tr>\n",
       "    <tr>\n",
       "      <th>1643584</th>\n",
       "      <td>.[3] http://www.quicktopic.com/boing/H/WhGgH4s...</td>\n",
       "      <td>None</td>\n",
       "      <td>None</td>\n",
       "    </tr>\n",
       "    <tr>\n",
       "      <th>1643585</th>\n",
       "      <td>.</td>\n",
       "      <td>None</td>\n",
       "      <td>None</td>\n",
       "    </tr>\n",
       "    <tr>\n",
       "      <th>1643586</th>\n",
       "      <td>.</td>\n",
       "      <td>None</td>\n",
       "      <td>None</td>\n",
       "    </tr>\n",
       "    <tr>\n",
       "      <th>1643587</th>\n",
       "      <td>\"</td>\n",
       "      <td>None</td>\n",
       "      <td>None</td>\n",
       "    </tr>\n",
       "  </tbody>\n",
       "</table>\n",
       "<p>1643588 rows × 3 columns</p>\n",
       "</div>"
      ],
      "text/plain": [
       "                                                         0       1  \\\n",
       "0                                                           Status   \n",
       "1                                                     3471       2   \n",
       "2                              .Return-Path: ong@litou.com    None   \n",
       "3                 .Delivery-Date: Mon Jun  3 12:18:39 2002    None   \n",
       "4        .Received: from smtp3.9tel.net (smtp.9tel.net ...    None   \n",
       "...                                                    ...     ...   \n",
       "1643583         .[2] http://www.sweatyfrog.com/index2.html    None   \n",
       "1643584  .[3] http://www.quicktopic.com/boing/H/WhGgH4s...    None   \n",
       "1643585                                                  .    None   \n",
       "1643586                                                  .    None   \n",
       "1643587                                                  \"    None   \n",
       "\n",
       "                                                     2  \n",
       "0                                              Message  \n",
       "1        \"From ong@litou.com  Mon Jun 24 17:53:04 2002  \n",
       "2                                                 None  \n",
       "3                                                 None  \n",
       "4                                                 None  \n",
       "...                                                ...  \n",
       "1643583                                           None  \n",
       "1643584                                           None  \n",
       "1643585                                           None  \n",
       "1643586                                           None  \n",
       "1643587                                           None  \n",
       "\n",
       "[1643588 rows x 3 columns]"
      ]
     },
     "execution_count": 64,
     "metadata": {},
     "output_type": "execute_result"
    }
   ],
   "source": [
    "Z"
   ]
  },
  {
   "cell_type": "code",
   "execution_count": 49,
   "id": "279890a3-98af-4d4d-9acc-82fcd639ccb6",
   "metadata": {},
   "outputs": [
    {
     "data": {
      "text/plain": [
       "'essa teressa'"
      ]
     },
     "execution_count": 49,
     "metadata": {},
     "output_type": "execute_result"
    }
   ],
   "source": [
    "\"essa teressa\".split()"
   ]
  },
  {
   "cell_type": "code",
   "execution_count": 83,
   "id": "f30cea97-b5c9-4b46-8d80-f4b0496338ca",
   "metadata": {},
   "outputs": [],
   "source": [
    "import pickle"
   ]
  },
  {
   "cell_type": "code",
   "execution_count": 84,
   "id": "97ebdfd4-4edd-494d-8cc9-bb0f6421df08",
   "metadata": {},
   "outputs": [],
   "source": [
    "with open(\"data/train.pkl\", \"wb\") as file:\n",
    "    pickle.dump(X_train, file)"
   ]
  },
  {
   "cell_type": "code",
   "execution_count": 85,
   "id": "3a205e39-a8a4-4cfd-b01e-eaaca1251660",
   "metadata": {},
   "outputs": [],
   "source": [
    "with open(\"data/train.pkl\", \"rb\") as file:\n",
    "    Z = pickle.load(file)"
   ]
  },
  {
   "cell_type": "code",
   "execution_count": 86,
   "id": "d198b243-2375-49c9-bc55-ef23428a7990",
   "metadata": {},
   "outputs": [],
   "source": [
    "with open(\"data/test.pkl\", \"wb\") as file:\n",
    "    pickle.dump(X_test, file)"
   ]
  },
  {
   "cell_type": "code",
   "execution_count": 87,
   "id": "5e4521c0-f540-4af0-ae56-a5e2f27ed2f6",
   "metadata": {},
   "outputs": [
    {
     "data": {
      "text/plain": [
       "np.True_"
      ]
     },
     "execution_count": 87,
     "metadata": {},
     "output_type": "execute_result"
    }
   ],
   "source": [
    "np.all(Z == X_train)"
   ]
  },
  {
   "cell_type": "code",
   "execution_count": 88,
   "id": "1d8f06ff-2630-4dd7-bc7d-bb84d7baf68d",
   "metadata": {},
   "outputs": [],
   "source": [
    "with open(\"data/test.pkl\", \"rb\") as file:\n",
    "    Z = pickle.load(file)"
   ]
  },
  {
   "cell_type": "code",
   "execution_count": 89,
   "id": "768a2636-6c4d-44f1-af36-da2c5b26012d",
   "metadata": {},
   "outputs": [
    {
     "data": {
      "text/plain": [
       "np.True_"
      ]
     },
     "execution_count": 89,
     "metadata": {},
     "output_type": "execute_result"
    }
   ],
   "source": [
    "np.all(Z == X_test)"
   ]
  },
  {
   "cell_type": "code",
   "execution_count": null,
   "id": "e80fc6fd-8641-4b96-8bac-08969ec9c58b",
   "metadata": {},
   "outputs": [],
   "source": []
  }
 ],
 "metadata": {
  "kernelspec": {
   "display_name": "Python 3 (ipykernel)",
   "language": "python",
   "name": "python3"
  },
  "language_info": {
   "codemirror_mode": {
    "name": "ipython",
    "version": 3
   },
   "file_extension": ".py",
   "mimetype": "text/x-python",
   "name": "python",
   "nbconvert_exporter": "python",
   "pygments_lexer": "ipython3",
   "version": "3.10.0"
  }
 },
 "nbformat": 4,
 "nbformat_minor": 5
}
